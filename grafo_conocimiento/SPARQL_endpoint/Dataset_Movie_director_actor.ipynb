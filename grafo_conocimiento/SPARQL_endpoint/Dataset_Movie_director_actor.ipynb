{
 "cells": [
  {
   "cell_type": "code",
   "execution_count": 14,
   "metadata": {},
   "outputs": [],
   "source": [
    "import pandas as pd\n",
    "import numpy as np"
   ]
  },
  {
   "cell_type": "code",
   "execution_count": 15,
   "metadata": {},
   "outputs": [
    {
     "data": {
      "text/html": [
       "<div>\n",
       "<style scoped>\n",
       "    .dataframe tbody tr th:only-of-type {\n",
       "        vertical-align: middle;\n",
       "    }\n",
       "\n",
       "    .dataframe tbody tr th {\n",
       "        vertical-align: top;\n",
       "    }\n",
       "\n",
       "    .dataframe thead th {\n",
       "        text-align: right;\n",
       "    }\n",
       "</style>\n",
       "<table border=\"1\" class=\"dataframe\">\n",
       "  <thead>\n",
       "    <tr style=\"text-align: right;\">\n",
       "      <th></th>\n",
       "      <th>id</th>\n",
       "      <th>movie</th>\n",
       "      <th>uri</th>\n",
       "      <th>director</th>\n",
       "      <th>starring</th>\n",
       "    </tr>\n",
       "  </thead>\n",
       "  <tbody>\n",
       "    <tr>\n",
       "      <th>0</th>\n",
       "      <td>781</td>\n",
       "      <td>Stealing Beauty (1996)</td>\n",
       "      <td>http://dbpedia.org/resource/Stealing_Beauty</td>\n",
       "      <td>Bernardo Bertolucci</td>\n",
       "      <td>Sinéad Cusack,Joseph Fiennes,Rachel Weisz,Jere...</td>\n",
       "    </tr>\n",
       "    <tr>\n",
       "      <th>1</th>\n",
       "      <td>1799</td>\n",
       "      <td>Suicide Kings (1997)</td>\n",
       "      <td>http://dbpedia.org/resource/Suicide_Kings</td>\n",
       "      <td>Peter O'Fallon</td>\n",
       "      <td>Henry Thomas,Denis Leary,Christopher Walken,Ja...</td>\n",
       "    </tr>\n",
       "    <tr>\n",
       "      <th>2</th>\n",
       "      <td>521</td>\n",
       "      <td>Romeo Is Bleeding (1993)</td>\n",
       "      <td>http://dbpedia.org/resource/Romeo_Is_Bleeding</td>\n",
       "      <td>Peter Medak</td>\n",
       "      <td>Roy Scheider,Annabella Sciorra,Lena Olin,Gary ...</td>\n",
       "    </tr>\n",
       "    <tr>\n",
       "      <th>3</th>\n",
       "      <td>3596</td>\n",
       "      <td>Screwed (2000)</td>\n",
       "      <td>http://dbpedia.org/resource/Screwed_(2000_film)</td>\n",
       "      <td>Scott Alexander</td>\n",
       "      <td>Sarah Silverman,Danny DeVito,Norm Macdonald,El...</td>\n",
       "    </tr>\n",
       "    <tr>\n",
       "      <th>4</th>\n",
       "      <td>3682</td>\n",
       "      <td>Magnum Force (1973)</td>\n",
       "      <td>http://dbpedia.org/resource/Magnum_Force</td>\n",
       "      <td>Ted Post</td>\n",
       "      <td>Clint Eastwood,Robert Urich,David Soul,Tim Mat...</td>\n",
       "    </tr>\n",
       "    <tr>\n",
       "      <th>5</th>\n",
       "      <td>2635</td>\n",
       "      <td>Mummy's Curse, The (1944)</td>\n",
       "      <td>http://dbpedia.org/resource/The_Mummy's_Curse</td>\n",
       "      <td>Leslie Goodwins</td>\n",
       "      <td>Virginia Christine</td>\n",
       "    </tr>\n",
       "    <tr>\n",
       "      <th>6</th>\n",
       "      <td>1590</td>\n",
       "      <td>Event Horizon (1997)</td>\n",
       "      <td>http://dbpedia.org/resource/Event_Horizon_(film)</td>\n",
       "      <td>Paul W. S. Anderson</td>\n",
       "      <td>Kathleen Quinlan,Sam Neill,Joely Richardson,La...</td>\n",
       "    </tr>\n",
       "    <tr>\n",
       "      <th>7</th>\n",
       "      <td>116</td>\n",
       "      <td>Anne Frank Remembered (1995)</td>\n",
       "      <td>http://dbpedia.org/resource/Anne_Frank_Remembered</td>\n",
       "      <td>Jon Blair</td>\n",
       "      <td>Glenn Close,Kenneth Branagh,Sir Kenneth Branagh</td>\n",
       "    </tr>\n",
       "    <tr>\n",
       "      <th>8</th>\n",
       "      <td>3719</td>\n",
       "      <td>Love's Labour's Lost (2000)</td>\n",
       "      <td>http://dbpedia.org/resource/Love's_Labour's_Lo...</td>\n",
       "      <td>Jon Blair</td>\n",
       "      <td>NaN</td>\n",
       "    </tr>\n",
       "    <tr>\n",
       "      <th>9</th>\n",
       "      <td>3811</td>\n",
       "      <td>Breaker Morant (1980)</td>\n",
       "      <td>http://dbpedia.org/resource/Breaker_Morant_(film)</td>\n",
       "      <td>Bruce Beresford</td>\n",
       "      <td>Jack Thompson,Edward Woodward</td>\n",
       "    </tr>\n",
       "  </tbody>\n",
       "</table>\n",
       "</div>"
      ],
      "text/plain": [
       "     id                         movie  \\\n",
       "0   781        Stealing Beauty (1996)   \n",
       "1  1799          Suicide Kings (1997)   \n",
       "2   521      Romeo Is Bleeding (1993)   \n",
       "3  3596                Screwed (2000)   \n",
       "4  3682           Magnum Force (1973)   \n",
       "5  2635     Mummy's Curse, The (1944)   \n",
       "6  1590          Event Horizon (1997)   \n",
       "7   116  Anne Frank Remembered (1995)   \n",
       "8  3719   Love's Labour's Lost (2000)   \n",
       "9  3811         Breaker Morant (1980)   \n",
       "\n",
       "                                                 uri             director  \\\n",
       "0        http://dbpedia.org/resource/Stealing_Beauty  Bernardo Bertolucci   \n",
       "1          http://dbpedia.org/resource/Suicide_Kings       Peter O'Fallon   \n",
       "2      http://dbpedia.org/resource/Romeo_Is_Bleeding          Peter Medak   \n",
       "3    http://dbpedia.org/resource/Screwed_(2000_film)      Scott Alexander   \n",
       "4           http://dbpedia.org/resource/Magnum_Force             Ted Post   \n",
       "5      http://dbpedia.org/resource/The_Mummy's_Curse      Leslie Goodwins   \n",
       "6   http://dbpedia.org/resource/Event_Horizon_(film)  Paul W. S. Anderson   \n",
       "7  http://dbpedia.org/resource/Anne_Frank_Remembered            Jon Blair   \n",
       "8  http://dbpedia.org/resource/Love's_Labour's_Lo...            Jon Blair   \n",
       "9  http://dbpedia.org/resource/Breaker_Morant_(film)      Bruce Beresford   \n",
       "\n",
       "                                            starring  \n",
       "0  Sinéad Cusack,Joseph Fiennes,Rachel Weisz,Jere...  \n",
       "1  Henry Thomas,Denis Leary,Christopher Walken,Ja...  \n",
       "2  Roy Scheider,Annabella Sciorra,Lena Olin,Gary ...  \n",
       "3  Sarah Silverman,Danny DeVito,Norm Macdonald,El...  \n",
       "4  Clint Eastwood,Robert Urich,David Soul,Tim Mat...  \n",
       "5                                 Virginia Christine  \n",
       "6  Kathleen Quinlan,Sam Neill,Joely Richardson,La...  \n",
       "7    Glenn Close,Kenneth Branagh,Sir Kenneth Branagh  \n",
       "8                                                NaN  \n",
       "9                      Jack Thompson,Edward Woodward  "
      ]
     },
     "execution_count": 15,
     "metadata": {},
     "output_type": "execute_result"
    }
   ],
   "source": [
    "df = pd.read_csv(\"movies1_info.csv\", sep=';')\n",
    "df.head(10)"
   ]
  },
  {
   "cell_type": "markdown",
   "metadata": {},
   "source": [
    "Se crea Dataset de peliculas"
   ]
  },
  {
   "cell_type": "code",
   "execution_count": 8,
   "metadata": {},
   "outputs": [
    {
     "data": {
      "text/plain": [
       "3301"
      ]
     },
     "execution_count": 8,
     "metadata": {},
     "output_type": "execute_result"
    }
   ],
   "source": [
    "movies = df.drop(['director','starring','uri','director'],axis=1)\n",
    "len(movies)"
   ]
  },
  {
   "cell_type": "code",
   "execution_count": 9,
   "metadata": {},
   "outputs": [
    {
     "data": {
      "text/html": [
       "<div>\n",
       "<style scoped>\n",
       "    .dataframe tbody tr th:only-of-type {\n",
       "        vertical-align: middle;\n",
       "    }\n",
       "\n",
       "    .dataframe tbody tr th {\n",
       "        vertical-align: top;\n",
       "    }\n",
       "\n",
       "    .dataframe thead th {\n",
       "        text-align: right;\n",
       "    }\n",
       "</style>\n",
       "<table border=\"1\" class=\"dataframe\">\n",
       "  <thead>\n",
       "    <tr style=\"text-align: right;\">\n",
       "      <th></th>\n",
       "      <th>id</th>\n",
       "      <th>movie</th>\n",
       "    </tr>\n",
       "  </thead>\n",
       "  <tbody>\n",
       "    <tr>\n",
       "      <th>0</th>\n",
       "      <td>781</td>\n",
       "      <td>Stealing Beauty (1996)</td>\n",
       "    </tr>\n",
       "    <tr>\n",
       "      <th>1</th>\n",
       "      <td>1799</td>\n",
       "      <td>Suicide Kings (1997)</td>\n",
       "    </tr>\n",
       "    <tr>\n",
       "      <th>2</th>\n",
       "      <td>521</td>\n",
       "      <td>Romeo Is Bleeding (1993)</td>\n",
       "    </tr>\n",
       "    <tr>\n",
       "      <th>3</th>\n",
       "      <td>3596</td>\n",
       "      <td>Screwed (2000)</td>\n",
       "    </tr>\n",
       "    <tr>\n",
       "      <th>4</th>\n",
       "      <td>3682</td>\n",
       "      <td>Magnum Force (1973)</td>\n",
       "    </tr>\n",
       "  </tbody>\n",
       "</table>\n",
       "</div>"
      ],
      "text/plain": [
       "     id                     movie\n",
       "0   781    Stealing Beauty (1996)\n",
       "1  1799      Suicide Kings (1997)\n",
       "2   521  Romeo Is Bleeding (1993)\n",
       "3  3596            Screwed (2000)\n",
       "4  3682       Magnum Force (1973)"
      ]
     },
     "execution_count": 9,
     "metadata": {},
     "output_type": "execute_result"
    }
   ],
   "source": [
    "movies.head()"
   ]
  },
  {
   "cell_type": "code",
   "execution_count": 10,
   "metadata": {},
   "outputs": [],
   "source": [
    "ds_movies = pd.read_csv(\"ds_movies.csv\", sep=','')\n",
    "ds_movies = ds_movies.head(4000)"
   ]
  },
  {
   "cell_type": "code",
   "execution_count": 11,
   "metadata": {},
   "outputs": [
    {
     "data": {
      "text/plain": [
       "4000"
      ]
     },
     "execution_count": 11,
     "metadata": {},
     "output_type": "execute_result"
    }
   ],
   "source": [
    "len(ds_movies)"
   ]
  },
  {
   "cell_type": "code",
   "execution_count": 12,
   "metadata": {},
   "outputs": [
    {
     "data": {
      "text/html": [
       "<div>\n",
       "<style scoped>\n",
       "    .dataframe tbody tr th:only-of-type {\n",
       "        vertical-align: middle;\n",
       "    }\n",
       "\n",
       "    .dataframe tbody tr th {\n",
       "        vertical-align: top;\n",
       "    }\n",
       "\n",
       "    .dataframe thead th {\n",
       "        text-align: right;\n",
       "    }\n",
       "</style>\n",
       "<table border=\"1\" class=\"dataframe\">\n",
       "  <thead>\n",
       "    <tr style=\"text-align: right;\">\n",
       "      <th></th>\n",
       "      <th>movieId</th>\n",
       "      <th>title</th>\n",
       "      <th>genres</th>\n",
       "    </tr>\n",
       "  </thead>\n",
       "  <tbody>\n",
       "    <tr>\n",
       "      <th>3995</th>\n",
       "      <td>4088</td>\n",
       "      <td>Big Town, The (1987)</td>\n",
       "      <td>Drama|Romance|Thriller</td>\n",
       "    </tr>\n",
       "    <tr>\n",
       "      <th>3996</th>\n",
       "      <td>4089</td>\n",
       "      <td>Born in East L.A. (1987)</td>\n",
       "      <td>Comedy</td>\n",
       "    </tr>\n",
       "    <tr>\n",
       "      <th>3997</th>\n",
       "      <td>4090</td>\n",
       "      <td>Brave Little Toaster, The (1987)</td>\n",
       "      <td>Animation|Children</td>\n",
       "    </tr>\n",
       "    <tr>\n",
       "      <th>3998</th>\n",
       "      <td>4091</td>\n",
       "      <td>Can't Buy Me Love (1987)</td>\n",
       "      <td>Comedy|Romance</td>\n",
       "    </tr>\n",
       "    <tr>\n",
       "      <th>3999</th>\n",
       "      <td>4092</td>\n",
       "      <td>Cherry 2000 (1987)</td>\n",
       "      <td>Romance|Sci-Fi</td>\n",
       "    </tr>\n",
       "  </tbody>\n",
       "</table>\n",
       "</div>"
      ],
      "text/plain": [
       "      movieId                             title                  genres\n",
       "3995     4088              Big Town, The (1987)  Drama|Romance|Thriller\n",
       "3996     4089          Born in East L.A. (1987)                  Comedy\n",
       "3997     4090  Brave Little Toaster, The (1987)      Animation|Children\n",
       "3998     4091          Can't Buy Me Love (1987)          Comedy|Romance\n",
       "3999     4092                Cherry 2000 (1987)          Romance|Sci-Fi"
      ]
     },
     "execution_count": 12,
     "metadata": {},
     "output_type": "execute_result"
    }
   ],
   "source": [
    "ds_movies.tail()"
   ]
  },
  {
   "cell_type": "code",
   "execution_count": 13,
   "metadata": {},
   "outputs": [],
   "source": [
    "csv_name = \"movies.csv\"\n",
    "ds_movies.to_csv(csv_name, index=False, sep=';',encoding='utf-8')"
   ]
  },
  {
   "cell_type": "markdown",
   "metadata": {},
   "source": [
    "Dataset de director"
   ]
  },
  {
   "cell_type": "code",
   "execution_count": 3,
   "metadata": {},
   "outputs": [
    {
     "data": {
      "text/plain": [
       "3301"
      ]
     },
     "execution_count": 3,
     "metadata": {},
     "output_type": "execute_result"
    }
   ],
   "source": [
    "directors = df.drop(['id','movie','uri','starring'],axis=1)\n",
    "len(directors)"
   ]
  },
  {
   "cell_type": "code",
   "execution_count": 4,
   "metadata": {},
   "outputs": [],
   "source": [
    "# dropping duplicate values \n",
    "directors.drop_duplicates(keep=\"first\",inplace=True) "
   ]
  },
  {
   "cell_type": "code",
   "execution_count": 5,
   "metadata": {},
   "outputs": [
    {
     "data": {
      "text/plain": [
       "1496"
      ]
     },
     "execution_count": 5,
     "metadata": {},
     "output_type": "execute_result"
    }
   ],
   "source": [
    "len(directors)"
   ]
  },
  {
   "cell_type": "code",
   "execution_count": 6,
   "metadata": {},
   "outputs": [
    {
     "data": {
      "text/html": [
       "<div>\n",
       "<style scoped>\n",
       "    .dataframe tbody tr th:only-of-type {\n",
       "        vertical-align: middle;\n",
       "    }\n",
       "\n",
       "    .dataframe tbody tr th {\n",
       "        vertical-align: top;\n",
       "    }\n",
       "\n",
       "    .dataframe thead th {\n",
       "        text-align: right;\n",
       "    }\n",
       "</style>\n",
       "<table border=\"1\" class=\"dataframe\">\n",
       "  <thead>\n",
       "    <tr style=\"text-align: right;\">\n",
       "      <th></th>\n",
       "      <th>director</th>\n",
       "    </tr>\n",
       "  </thead>\n",
       "  <tbody>\n",
       "    <tr>\n",
       "      <th>0</th>\n",
       "      <td>Bernardo Bertolucci</td>\n",
       "    </tr>\n",
       "    <tr>\n",
       "      <th>1</th>\n",
       "      <td>Peter O'Fallon</td>\n",
       "    </tr>\n",
       "    <tr>\n",
       "      <th>2</th>\n",
       "      <td>Peter Medak</td>\n",
       "    </tr>\n",
       "    <tr>\n",
       "      <th>3</th>\n",
       "      <td>Scott Alexander</td>\n",
       "    </tr>\n",
       "    <tr>\n",
       "      <th>4</th>\n",
       "      <td>Ted Post</td>\n",
       "    </tr>\n",
       "    <tr>\n",
       "      <th>5</th>\n",
       "      <td>Leslie Goodwins</td>\n",
       "    </tr>\n",
       "    <tr>\n",
       "      <th>6</th>\n",
       "      <td>Paul W. S. Anderson</td>\n",
       "    </tr>\n",
       "    <tr>\n",
       "      <th>7</th>\n",
       "      <td>Jon Blair</td>\n",
       "    </tr>\n",
       "    <tr>\n",
       "      <th>9</th>\n",
       "      <td>Bruce Beresford</td>\n",
       "    </tr>\n",
       "    <tr>\n",
       "      <th>10</th>\n",
       "      <td>Otto Preminger</td>\n",
       "    </tr>\n",
       "    <tr>\n",
       "      <th>11</th>\n",
       "      <td>Vincent Ward</td>\n",
       "    </tr>\n",
       "    <tr>\n",
       "      <th>12</th>\n",
       "      <td>Kimberly Peirce</td>\n",
       "    </tr>\n",
       "    <tr>\n",
       "      <th>13</th>\n",
       "      <td>Sidney J. Furie</td>\n",
       "    </tr>\n",
       "    <tr>\n",
       "      <th>14</th>\n",
       "      <td>James L. Brooks</td>\n",
       "    </tr>\n",
       "    <tr>\n",
       "      <th>15</th>\n",
       "      <td>Davis Guggenheim</td>\n",
       "    </tr>\n",
       "    <tr>\n",
       "      <th>16</th>\n",
       "      <td>René Cardona Jr.</td>\n",
       "    </tr>\n",
       "    <tr>\n",
       "      <th>17</th>\n",
       "      <td>Robert Stevenson</td>\n",
       "    </tr>\n",
       "    <tr>\n",
       "      <th>18</th>\n",
       "      <td>Joe Johnston</td>\n",
       "    </tr>\n",
       "    <tr>\n",
       "      <th>19</th>\n",
       "      <td>Eric Bross</td>\n",
       "    </tr>\n",
       "    <tr>\n",
       "      <th>20</th>\n",
       "      <td>Michael Edward Lindsay-Hogg</td>\n",
       "    </tr>\n",
       "  </tbody>\n",
       "</table>\n",
       "</div>"
      ],
      "text/plain": [
       "                       director\n",
       "0           Bernardo Bertolucci\n",
       "1                Peter O'Fallon\n",
       "2                   Peter Medak\n",
       "3               Scott Alexander\n",
       "4                      Ted Post\n",
       "5               Leslie Goodwins\n",
       "6           Paul W. S. Anderson\n",
       "7                     Jon Blair\n",
       "9               Bruce Beresford\n",
       "10               Otto Preminger\n",
       "11                 Vincent Ward\n",
       "12              Kimberly Peirce\n",
       "13              Sidney J. Furie\n",
       "14              James L. Brooks\n",
       "15             Davis Guggenheim\n",
       "16             René Cardona Jr.\n",
       "17             Robert Stevenson\n",
       "18                 Joe Johnston\n",
       "19                   Eric Bross\n",
       "20  Michael Edward Lindsay-Hogg"
      ]
     },
     "execution_count": 6,
     "metadata": {},
     "output_type": "execute_result"
    }
   ],
   "source": [
    "directors.head(20)"
   ]
  },
  {
   "cell_type": "code",
   "execution_count": 7,
   "metadata": {},
   "outputs": [],
   "source": [
    "csv_name = \"directors.csv\"\n",
    "directors.to_csv(csv_name, index=False, sep=';',encoding='utf-8')"
   ]
  },
  {
   "cell_type": "markdown",
   "metadata": {},
   "source": [
    "Creando Dataset artistas"
   ]
  },
  {
   "cell_type": "code",
   "execution_count": 24,
   "metadata": {},
   "outputs": [],
   "source": [
    "actors = df.drop(['movie','uri','director'],axis=1)\n"
   ]
  },
  {
   "cell_type": "code",
   "execution_count": 31,
   "metadata": {},
   "outputs": [
    {
     "data": {
      "text/html": [
       "<div>\n",
       "<style scoped>\n",
       "    .dataframe tbody tr th:only-of-type {\n",
       "        vertical-align: middle;\n",
       "    }\n",
       "\n",
       "    .dataframe tbody tr th {\n",
       "        vertical-align: top;\n",
       "    }\n",
       "\n",
       "    .dataframe thead th {\n",
       "        text-align: right;\n",
       "    }\n",
       "</style>\n",
       "<table border=\"1\" class=\"dataframe\">\n",
       "  <thead>\n",
       "    <tr style=\"text-align: right;\">\n",
       "      <th></th>\n",
       "      <th>id</th>\n",
       "      <th>starring</th>\n",
       "    </tr>\n",
       "  </thead>\n",
       "  <tbody>\n",
       "    <tr>\n",
       "      <th>0</th>\n",
       "      <td>781</td>\n",
       "      <td>Sinéad Cusack,Joseph Fiennes,Rachel Weisz,Jere...</td>\n",
       "    </tr>\n",
       "    <tr>\n",
       "      <th>1</th>\n",
       "      <td>1799</td>\n",
       "      <td>Henry Thomas,Denis Leary,Christopher Walken,Ja...</td>\n",
       "    </tr>\n",
       "    <tr>\n",
       "      <th>2</th>\n",
       "      <td>521</td>\n",
       "      <td>Roy Scheider,Annabella Sciorra,Lena Olin,Gary ...</td>\n",
       "    </tr>\n",
       "    <tr>\n",
       "      <th>3</th>\n",
       "      <td>3596</td>\n",
       "      <td>Sarah Silverman,Danny DeVito,Norm Macdonald,El...</td>\n",
       "    </tr>\n",
       "    <tr>\n",
       "      <th>4</th>\n",
       "      <td>3682</td>\n",
       "      <td>Clint Eastwood,Robert Urich,David Soul,Tim Mat...</td>\n",
       "    </tr>\n",
       "    <tr>\n",
       "      <th>5</th>\n",
       "      <td>2635</td>\n",
       "      <td>Virginia Christine</td>\n",
       "    </tr>\n",
       "    <tr>\n",
       "      <th>6</th>\n",
       "      <td>1590</td>\n",
       "      <td>Kathleen Quinlan,Sam Neill,Joely Richardson,La...</td>\n",
       "    </tr>\n",
       "    <tr>\n",
       "      <th>7</th>\n",
       "      <td>116</td>\n",
       "      <td>Glenn Close,Kenneth Branagh,Sir Kenneth Branagh</td>\n",
       "    </tr>\n",
       "    <tr>\n",
       "      <th>9</th>\n",
       "      <td>3811</td>\n",
       "      <td>Jack Thompson,Edward Woodward</td>\n",
       "    </tr>\n",
       "    <tr>\n",
       "      <th>10</th>\n",
       "      <td>3801</td>\n",
       "      <td>Lee Remick,James Stewart,Arthur O'Connell,Geor...</td>\n",
       "    </tr>\n",
       "  </tbody>\n",
       "</table>\n",
       "</div>"
      ],
      "text/plain": [
       "      id                                           starring\n",
       "0    781  Sinéad Cusack,Joseph Fiennes,Rachel Weisz,Jere...\n",
       "1   1799  Henry Thomas,Denis Leary,Christopher Walken,Ja...\n",
       "2    521  Roy Scheider,Annabella Sciorra,Lena Olin,Gary ...\n",
       "3   3596  Sarah Silverman,Danny DeVito,Norm Macdonald,El...\n",
       "4   3682  Clint Eastwood,Robert Urich,David Soul,Tim Mat...\n",
       "5   2635                                 Virginia Christine\n",
       "6   1590  Kathleen Quinlan,Sam Neill,Joely Richardson,La...\n",
       "7    116    Glenn Close,Kenneth Branagh,Sir Kenneth Branagh\n",
       "9   3811                      Jack Thompson,Edward Woodward\n",
       "10  3801  Lee Remick,James Stewart,Arthur O'Connell,Geor..."
      ]
     },
     "execution_count": 31,
     "metadata": {},
     "output_type": "execute_result"
    }
   ],
   "source": [
    "actors.head(10)"
   ]
  },
  {
   "cell_type": "code",
   "execution_count": 26,
   "metadata": {},
   "outputs": [
    {
     "data": {
      "text/plain": [
       "3301"
      ]
     },
     "execution_count": 26,
     "metadata": {},
     "output_type": "execute_result"
    }
   ],
   "source": [
    "len(actors)"
   ]
  },
  {
   "cell_type": "code",
   "execution_count": 29,
   "metadata": {},
   "outputs": [],
   "source": [
    "# dropping NaN values \n",
    "actors=actors.dropna()"
   ]
  },
  {
   "cell_type": "code",
   "execution_count": 30,
   "metadata": {},
   "outputs": [
    {
     "data": {
      "text/plain": [
       "2872"
      ]
     },
     "execution_count": 30,
     "metadata": {},
     "output_type": "execute_result"
    }
   ],
   "source": [
    "len(actors)"
   ]
  },
  {
   "cell_type": "code",
   "execution_count": 32,
   "metadata": {},
   "outputs": [
    {
     "data": {
      "text/html": [
       "<div>\n",
       "<style scoped>\n",
       "    .dataframe tbody tr th:only-of-type {\n",
       "        vertical-align: middle;\n",
       "    }\n",
       "\n",
       "    .dataframe tbody tr th {\n",
       "        vertical-align: top;\n",
       "    }\n",
       "\n",
       "    .dataframe thead th {\n",
       "        text-align: right;\n",
       "    }\n",
       "</style>\n",
       "<table border=\"1\" class=\"dataframe\">\n",
       "  <thead>\n",
       "    <tr style=\"text-align: right;\">\n",
       "      <th></th>\n",
       "      <th>id</th>\n",
       "      <th>starring</th>\n",
       "    </tr>\n",
       "  </thead>\n",
       "  <tbody>\n",
       "    <tr>\n",
       "      <th>0</th>\n",
       "      <td>781</td>\n",
       "      <td>Sinéad Cusack,Joseph Fiennes,Rachel Weisz,Jere...</td>\n",
       "    </tr>\n",
       "    <tr>\n",
       "      <th>1</th>\n",
       "      <td>1799</td>\n",
       "      <td>Henry Thomas,Denis Leary,Christopher Walken,Ja...</td>\n",
       "    </tr>\n",
       "    <tr>\n",
       "      <th>2</th>\n",
       "      <td>521</td>\n",
       "      <td>Roy Scheider,Annabella Sciorra,Lena Olin,Gary ...</td>\n",
       "    </tr>\n",
       "    <tr>\n",
       "      <th>3</th>\n",
       "      <td>3596</td>\n",
       "      <td>Sarah Silverman,Danny DeVito,Norm Macdonald,El...</td>\n",
       "    </tr>\n",
       "    <tr>\n",
       "      <th>4</th>\n",
       "      <td>3682</td>\n",
       "      <td>Clint Eastwood,Robert Urich,David Soul,Tim Mat...</td>\n",
       "    </tr>\n",
       "    <tr>\n",
       "      <th>5</th>\n",
       "      <td>2635</td>\n",
       "      <td>Virginia Christine</td>\n",
       "    </tr>\n",
       "    <tr>\n",
       "      <th>6</th>\n",
       "      <td>1590</td>\n",
       "      <td>Kathleen Quinlan,Sam Neill,Joely Richardson,La...</td>\n",
       "    </tr>\n",
       "    <tr>\n",
       "      <th>7</th>\n",
       "      <td>116</td>\n",
       "      <td>Glenn Close,Kenneth Branagh,Sir Kenneth Branagh</td>\n",
       "    </tr>\n",
       "    <tr>\n",
       "      <th>8</th>\n",
       "      <td>3811</td>\n",
       "      <td>Jack Thompson,Edward Woodward</td>\n",
       "    </tr>\n",
       "    <tr>\n",
       "      <th>9</th>\n",
       "      <td>3801</td>\n",
       "      <td>Lee Remick,James Stewart,Arthur O'Connell,Geor...</td>\n",
       "    </tr>\n",
       "  </tbody>\n",
       "</table>\n",
       "</div>"
      ],
      "text/plain": [
       "     id                                           starring\n",
       "0   781  Sinéad Cusack,Joseph Fiennes,Rachel Weisz,Jere...\n",
       "1  1799  Henry Thomas,Denis Leary,Christopher Walken,Ja...\n",
       "2   521  Roy Scheider,Annabella Sciorra,Lena Olin,Gary ...\n",
       "3  3596  Sarah Silverman,Danny DeVito,Norm Macdonald,El...\n",
       "4  3682  Clint Eastwood,Robert Urich,David Soul,Tim Mat...\n",
       "5  2635                                 Virginia Christine\n",
       "6  1590  Kathleen Quinlan,Sam Neill,Joely Richardson,La...\n",
       "7   116    Glenn Close,Kenneth Branagh,Sir Kenneth Branagh\n",
       "8  3811                      Jack Thompson,Edward Woodward\n",
       "9  3801  Lee Remick,James Stewart,Arthur O'Connell,Geor..."
      ]
     },
     "execution_count": 32,
     "metadata": {},
     "output_type": "execute_result"
    }
   ],
   "source": [
    "actors.reset_index(drop=True).head(10)"
   ]
  },
  {
   "cell_type": "code",
   "execution_count": 24,
   "metadata": {},
   "outputs": [],
   "source": [
    "#Se crea Dataframe para guardar valores de actores\n",
    "d = {'starring': []}\n",
    "df = pd.DataFrame(data=d)\n",
    "for x in range(len(actors)):\n",
    "    #Se crea lista de los valores separados por coma\n",
    "    lista = actors.starring.iloc[x].split(',')\n",
    "    #Se convierte lista en array\n",
    "    array = np.asarray(lista)\n",
    "    #Se adiciona al dataset el array\n",
    "    df = df.append(pd.DataFrame(array, columns=['starring']), ignore_index=True)\n",
    "\n",
    "        "
   ]
  },
  {
   "cell_type": "code",
   "execution_count": 25,
   "metadata": {},
   "outputs": [],
   "source": [
    "# df.head(10)"
   ]
  },
  {
   "cell_type": "code",
   "execution_count": 26,
   "metadata": {},
   "outputs": [
    {
     "data": {
      "text/plain": [
       "14344"
      ]
     },
     "execution_count": 26,
     "metadata": {},
     "output_type": "execute_result"
    }
   ],
   "source": [
    "len(df)"
   ]
  },
  {
   "cell_type": "code",
   "execution_count": 27,
   "metadata": {},
   "outputs": [],
   "source": [
    "# dropping duplicate values \n",
    "df.drop_duplicates(keep='first',inplace=True)"
   ]
  },
  {
   "cell_type": "code",
   "execution_count": 28,
   "metadata": {},
   "outputs": [
    {
     "data": {
      "text/plain": [
       "6115"
      ]
     },
     "execution_count": 28,
     "metadata": {},
     "output_type": "execute_result"
    }
   ],
   "source": [
    "len(df)"
   ]
  },
  {
   "cell_type": "code",
   "execution_count": 30,
   "metadata": {},
   "outputs": [],
   "source": [
    "csv_name = \"actors.csv\"\n",
    "df.to_csv(csv_name, index=False, sep=';',encoding='utf-8')"
   ]
  },
  {
   "cell_type": "code",
   "execution_count": null,
   "metadata": {},
   "outputs": [],
   "source": []
  }
 ],
 "metadata": {
  "kernelspec": {
   "display_name": "Python 3",
   "language": "python",
   "name": "python3"
  },
  "language_info": {
   "codemirror_mode": {
    "name": "ipython",
    "version": 3
   },
   "file_extension": ".py",
   "mimetype": "text/x-python",
   "name": "python",
   "nbconvert_exporter": "python",
   "pygments_lexer": "ipython3",
   "version": "3.7.3"
  }
 },
 "nbformat": 4,
 "nbformat_minor": 2
}
